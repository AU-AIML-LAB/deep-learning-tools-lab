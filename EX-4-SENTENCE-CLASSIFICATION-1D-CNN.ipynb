{
 "cells": [
  {
   "cell_type": "markdown",
   "id": "24e4a56a-862a-49e6-becb-a62cdba861c4",
   "metadata": {},
   "source": [
    "# Sentence Classifier using 1D CNN"
   ]
  },
  {
   "cell_type": "code",
   "execution_count": 1,
   "id": "3cddb231-f361-47f6-8024-d124a71ada5e",
   "metadata": {},
   "outputs": [
    {
     "name": "stderr",
     "output_type": "stream",
     "text": [
      "2024-04-03 17:25:01.094655: I external/local_tsl/tsl/cuda/cudart_stub.cc:32] Could not find cuda drivers on your machine, GPU will not be used.\n",
      "2024-04-03 17:25:01.097687: I external/local_tsl/tsl/cuda/cudart_stub.cc:32] Could not find cuda drivers on your machine, GPU will not be used.\n",
      "2024-04-03 17:25:01.141596: I tensorflow/core/platform/cpu_feature_guard.cc:210] This TensorFlow binary is optimized to use available CPU instructions in performance-critical operations.\n",
      "To enable the following instructions: AVX2 FMA, in other operations, rebuild TensorFlow with the appropriate compiler flags.\n",
      "2024-04-03 17:25:02.004213: W tensorflow/compiler/tf2tensorrt/utils/py_utils.cc:38] TF-TRT Warning: Could not find TensorRT\n"
     ]
    }
   ],
   "source": [
    "import matplotlib.pyplot as plt\n",
    "import os\n",
    "import re\n",
    "import string\n",
    "import shutil\n",
    "import tensorflow as tf\n",
    "from tensorflow.keras import layers, losses, callbacks, Sequential"
   ]
  },
  {
   "cell_type": "code",
   "execution_count": 2,
   "id": "645f3701-c4d5-4aca-8875-b7751e2c842b",
   "metadata": {},
   "outputs": [],
   "source": [
    "url = \"https://ai.stanford.edu/~amaas/data/sentiment/aclImdb_v1.tar.gz\"\n",
    "dataset = tf.keras.utils.get_file(\n",
    "    \"aclImdb_v1\" , url,\n",
    "    untar=True, cache_dir='',\n",
    "    cache_subdir=''\n",
    ")\n",
    "dataset_dir = os.path.join(os.path.dirname(dataset), 'aclImdb')"
   ]
  },
  {
   "cell_type": "code",
   "execution_count": 3,
   "id": "2aa6f5b6-168f-4efe-830c-7a3804952805",
   "metadata": {},
   "outputs": [
    {
     "data": {
      "text/plain": [
       "['test', 'imdbEr.txt', 'imdb.vocab', 'README', 'train']"
      ]
     },
     "execution_count": 3,
     "metadata": {},
     "output_type": "execute_result"
    }
   ],
   "source": [
    "os.listdir(dataset_dir)"
   ]
  },
  {
   "cell_type": "code",
   "execution_count": 4,
   "id": "6fa571d8-93f2-42a4-978f-9ab60ff7e8f7",
   "metadata": {},
   "outputs": [
    {
     "data": {
      "text/plain": [
       "['neg',\n",
       " 'pos',\n",
       " 'unsupBow.feat',\n",
       " 'labeledBow.feat',\n",
       " 'urls_neg.txt',\n",
       " 'urls_pos.txt',\n",
       " 'urls_unsup.txt',\n",
       " 'unsup']"
      ]
     },
     "execution_count": 4,
     "metadata": {},
     "output_type": "execute_result"
    }
   ],
   "source": [
    "train_dir = os.path.join(dataset_dir, 'train')\n",
    "os.listdir(train_dir)"
   ]
  },
  {
   "cell_type": "code",
   "execution_count": 5,
   "id": "897058a6-0966-4382-94c6-65080a9c785a",
   "metadata": {},
   "outputs": [],
   "source": [
    "shutil.rmtree(os.path.join(train_dir, \"unsup\"))"
   ]
  },
  {
   "cell_type": "code",
   "execution_count": 6,
   "id": "9f3890df-5370-44b8-8703-d7c59603c1df",
   "metadata": {},
   "outputs": [
    {
     "name": "stdout",
     "output_type": "stream",
     "text": [
      "Found 25000 files belonging to 2 classes.\n",
      "Using 20000 files for training.\n"
     ]
    },
    {
     "name": "stderr",
     "output_type": "stream",
     "text": [
      "2024-04-03 17:25:19.027573: I external/local_xla/xla/stream_executor/cuda/cuda_executor.cc:998] successful NUMA node read from SysFS had negative value (-1), but there must be at least one NUMA node, so returning NUMA node zero. See more at https://github.com/torvalds/linux/blob/v6.0/Documentation/ABI/testing/sysfs-bus-pci#L344-L355\n",
      "2024-04-03 17:25:19.027962: W tensorflow/core/common_runtime/gpu/gpu_device.cc:2251] Cannot dlopen some GPU libraries. Please make sure the missing libraries mentioned above are installed properly if you would like to use GPU. Follow the guide at https://www.tensorflow.org/install/gpu for how to download and setup the required libraries for your platform.\n",
      "Skipping registering GPU devices...\n"
     ]
    },
    {
     "name": "stdout",
     "output_type": "stream",
     "text": [
      "Found 25000 files belonging to 2 classes.\n",
      "Using 5000 files for validation.\n",
      "Found 25000 files belonging to 2 classes.\n"
     ]
    }
   ],
   "source": [
    "batch_size = 32\n",
    "seed = 42\n",
    "\n",
    "raw_train_ds = tf.keras.utils.text_dataset_from_directory(\n",
    "    train_dir,\n",
    "    batch_size=batch_size,\n",
    "    validation_split=0.2,\n",
    "    subset='training',\n",
    "    seed=seed\n",
    ")\n",
    "raw_val_ds = tf.keras.utils.text_dataset_from_directory(\n",
    "    train_dir,\n",
    "    batch_size=batch_size,\n",
    "    validation_split=0.2,\n",
    "    subset='validation',\n",
    "    seed=seed\n",
    ")\n",
    "raw_test_ds = tf.keras.utils.text_dataset_from_directory(\n",
    "    os.path.join(dataset_dir, 'test'),\n",
    "    batch_size=batch_size,\n",
    ")\n"
   ]
  },
  {
   "cell_type": "code",
   "execution_count": 7,
   "id": "3b7324f8-c81d-42d2-975f-553528d8c7e5",
   "metadata": {},
   "outputs": [
    {
     "name": "stdout",
     "output_type": "stream",
     "text": [
      "(<tf.Tensor: shape=(32,), dtype=string, numpy=\n",
      "array([b'the acting is good.thats the positives out of the way! SOSN is shallow and superficial.Almost all the characters are middle class and English.The gay men are depicted as fickle sexual predators aiming to use children in their empty lives.This film could only appeal to people who know hampstead heath and would get minor satisfaction from pointing out any landmarks.There is no time to engage with the characters and has a result you really don,t care about them,Catherine Tate at the height of her comedic fame stars as a woman seeking a divorce from her husband and on screen for about the same time as her Nana sketches failed to convince,however if she had said \"what a f****** liberty\" i would have agreed <br /><br />I\\'d rather take a walk in the Park;unintelligent rubbish!',\n",
      "       b'This movie is of interest to the fans of the famous rock group \"The Band\" in that singer/ keyboardist Richard Manuel appears in several scenes. It looks to me like the movie might have been shot some years before 75, judging by Richard\\'s looks. Interestingly, Jones would later act with The Band\\'s Levon in a considerably better film \"Coal Miner\\'s Daughter.\" Anyway, you really need a special reason to outlast this tough to watch Art film. Alas, the famously sensitive Manuel would commit suicide. I\\'ve never heard how he ended up in a movie. Four of the five members of the Band would appear in another bad film \"Man Outside.\"',\n",
      "       b\"Trading on the success of the 1975 hit, this film is a cheaply made story of a plantation where Massa gets down with the slave women, and the Missus gets down with the big black stud, and with massa'a son also. In fact, there is so much getting down going on, that I really don't know why anyone bothered to get dressed.<br /><br />So, if you want to see white women rolling their naked bodies all over tied up slaves, or you just like a movie with tits on display every five minutes, then this one is for you.<br /><br />There is a funny/sad story in here, but it only comes at the very end so as to not interfere with all the hot sweaty sex going on on the plantation.\",\n",
      "       b\"Uncle Frank is everyone's uncle. This documentary covered all aspects of aging in America, the lonliness, the humor, the irony. Uncle Frank and Aunt Tillie were supremely generous in sharing their life experiences with the audience. The director did an unbelieveable job of capturing the small and large pieces that made up their lives. Thanks to everyone who helped in making this film!\",\n",
      "       b'\"Love and Human Remains\" is one of those obviously scripted, obviously acted, obviously staged flicks which is so obvious that the escape velocity from its contrivances and fabrication is beyond me. Not worth explaining, this amateurish flick tries to cram every clever line, every misanthropic overtone, every peculiar sexual predilection into one film with an absence of concern for making the pieces fit. In short, sensationalistic crap without the sensation...which pretty much just leaves crap.',\n",
      "       b'First of all this is one of the worst soft-core straight to cable \"erotic thriller\" I\\'ve ever seen in my life. Of course, like all erotic thrillers are want to do, it\\'s about a brothel madam and is set in a brothel. This, of course, makes the softcore simulated sex that pops up every other 10 minutes seem \"in context.\" Whatever.<br /><br />Forget for one moment that this was never meant to win any awards. The actors are terrible and their line reading made me cringe. The woman who plays the female cop is so bad it\\'s beyond description. She must be a really REALLY good friend of the guys who put up the movie for this terrible adventure, if you know what I mean.<br /><br />The production values are only slightly higher than porn. Other than that? I suppose if you\\'re really drunk and you need something to laugh at, this would be a perfect film. And if that\\'s the case, I recommend fast forwarding to all the scenes with the female cop. What\\'s that accent, Brooklyn? Hilarious!',\n",
      "       b\"Without a shadow of a doubt this is and probably will always be the worst film i have ever had the missfortune to see my whole life. Take 5 wooden actors who got thrown out of acting school because they were so wooden someone sat on them thinking they were a bench.<br /><br />Then add a cheap camcorder. You know the old VHS types that cost \\xc2\\xa320 on ebay. Add a terrible story line with no effects and yes you have this film. What a shocker it was. They couldn't even save it by having a fit girl in it. She was fat and ugly and was the worst of all. I actually watched it all as i could not believe this crap ever got funded.<br /><br />MISS AT ALL COSTS\",\n",
      "       b\"It is one of the joys of Shakespeare that there can be no definitive performances - no single performance can be \\xc2\\x91right', but some can be wrong, and this one is. There are at least two things about Hamlet which cannot be dispensed with: 1. His indecisiveness and inability to take any kind of action. For God's sake that is what makes the play last as long as it does. If you had Othello there instead of Hamlet, Claudius would be dead by the end of Act One. Any production has to try to explain why Hamlet delays, why he is incapable of action. 2. His sexual disgust. His total revulsion at the thought of what his mother and uncle get up to in bed fill him with an utter disgust for all things sexual and this means that any kind of relationship with Ophelia is impossible. At the slightest hint of sex, Hamlet throws up. So, what does Mel Gibson give us? Lusty action-man. You could not get further from the character of Hamlet if you tried. There are lots of ways Hamlet can be played, but this isn't one of them! What I don't understand is since they managed to get such good actors for the other parts - Claudius, Polonius and so on, why couldn't they find one to play Hamlet as well. Mark Rylance in the part would have made this a great film. This \\xc2\\x91Mel Gibson', whoever he is, completely let down the rest of the cast. And lets face it, Hamlet without the prince really doesn't work.\",\n",
      "       b\"Darr, although a copy of some Hollywood flick, is one of the best films I have seen. It is not only beautifully portrayed but also has great songs and beautiful scenery. Shahrukh is his usual self. His expressions and voice matches his character. I was pleasantly surprised by Sunny Deol's portrayal in the film. He is a bit romantic and lovable in the film, unlike his other characters in his other films.At times you feel like Justice hasn't been done to his character. Sunny was intended to be portrayed as the good guy in the film but ends up looking like the villain at the end. Juhi Chawla is beautiful and bubbly. She is her usual self. In short, A great love story with passion.\",\n",
      "       b\"The plot has something about white hunters captured by a tribe of white women in the African jungle/ plains.Its a turkey and the some. What it really is is wildly mismatched footage from early sound and silent films mixed with badly shot recent(to the release) footage of men on a safari. There are scenes of a man in a gorilla suit, south seas natives at sea (used to represent people in the middle of Africa), women in bikini's, horrible narration and a guy in a loin cloth with make up all over his body (racially insensitive I think so). This is a movie to sit and make fun of- but only with lots of alcoholic drinks and witty friends. At any other time this is going to be a chore to get through. Its a bad bad bad movie. Beyond that I'm speechless\",\n",
      "       b'Nine out of nine people who watched this have declared themselves to be mentally scarred for life. No-one should ever have to see this abomination. The English Language is poorly equipped to express how utterly, dreadfully atrocious this \"film\" is. It\\'s really not worth the plastic it\\'s made of. No greater crime has been committed by the human race in the entire history of creation; never is there likely to be anything worse.<br /><br />It was agreed unanimously that the scene involving the shrunken head of Tommy and the young girl\\'s blouse was unbelievably sick and twisted; in fact many of us have not yet recovered from the ordeal and are currently sitting in the corner of the room rocking, sucking our thumbs and whimpering.<br /><br />The fundamental question on everyone\\'s lips, however, has to be \"Why???\". How is it possible for anyone to create such a monstrosity and then subject it to so many innocent people? After viewing the trailer we thought that this film might be a laugh: how wrong we were.<br /><br />Please sign the petition to rid the world of \"Shrunken Heads\" so that no other poor civilians be exposed to it. Please, for the good of humanity.',\n",
      "       b'This movie seemed like it was put together very quickly in both plot and graphics. My two daughters were ready to go 30 minutes before the end of the movie which rarely happens when we go to the theaters. This was a Nickelodeon Production and it would have been better if they had released it on the t.v. station. The animation itself in some parts was o.k. but the plot was horrible. A classic tale of a son trying to fulfill a fathers expectations is used in a lot of kids movies, but the animation or graphics need to be really good to keep a childs attention. This was not the case with this film. There were also awkward elements between the lead male character and the lead female character that the plot could have done without.',\n",
      "       b'I read the recent comments and couldn\\'t wait to see the movie. however, after sitting through 80 minutes of predictable \"suprises\" that didn\\'t even make me jump and unrealistic villain, i was left hugely disappointed. I thought cartoons were the only movies that were still only 80 minutes long. I thought this might be because of the edits to make it \\'R\\' rated, but the original only contained ten more minutes of \"Kill Bill\" type blood. When blood sprays out like hoses, reality loses appeal. Add in the killer who\\'s supposed to be a \"ghost\" but can rip someones head off from the jaw (ala King Kong with the T-Rex), lives through everything and has an ending similar to that of the sopranos finale and you quite possibly have the most over-hyped movie in the last year. After watching the movie i felt like i had seen countless movies with the same plot and method and also felt largely unsatisfied. I dunno what everyone else saw in it, but if you want a good horror movie this weekend, see Halloween, it\\'s definitely worth the $10. When it comes to Hatchet, let\\'s hope the next one IS based on the Book.',\n",
      "       b'For a teenager who has never read Austen, this adaptation might be fine. But only for them. This is a disjointed \"Cliff Notes\" version of Mansfield Park, and if you have not seen another version or read the books parts of it would be head scratching.<br /><br />Why has it been so hard to do a good adaptation of this book? The one in the 1990s took such liberties that it barely seemed to be the same book - the mindset was completely modern and prurient.<br /><br />Here we have Billie Piper who looks like a pretty country wench. She has a charming personality that develops nicely - but she has flagrantly died blonde hair, with black eyebrows and - through much of the pic - dark brown roots. So much for unspoiled cousin. It is incredibly distracting, and the rest of the cast is in the greasy hair, rumpled clothing genre that shows a real disrespect for period accuracy.<br /><br />One thing is good here - Haley Atwell is the best Mary Crawford of all the versions. She is note perfect, flirtatious without being at all modern or suggestive, flippant and completely without any moral or ethical compass. Henry here is actually good looking enough to be a slight temptation for our heroine.<br /><br />Jemma Redgrave takes one of the most interesting roles in the story and manages to make her actually boring until her last scene - much too sensible. This is just a production that really missed the mark, a real low for Austen fans.<br /><br />The only serviceable version is the one with odd duck (perfect for the role) Sylvestra La Touzel (despite the very very gay Henry Crawford - he\\'s just laughable).',\n",
      "       b'Low-budget but memorable would-be shocker that instead emerges as theater of the bizarre. Vulnerable, naive nurse Charlotte Beale comes to a secluded mental hospital and is completely unaware that the only sane people have been murdered, despite the red flags that are constantly being raised all around her. <br /><br />The lack of a decent budget really gives the filmmakers little more to go on than a sense of style, as well as a cast of wacky characters. The pleasures of this film don\\'t come from the film\\'s shocks, which are fairly tame, but from the weird atmosphere. First we have the delusional woman who thinks her baby doll is real. There\\'s also an axe-murdering judge, a shell-shocked war veteran, and old Mrs. Callahan is like everybody\\'s daffy elderly grandmother gone amok. A young patient named Allyson gives the term \"nymphomaniac\" new meaning. A big guy named Sam is just a little slow after a botched lobotomy, and Jennifer vaults suddenly between catatonia and violent outbursts. The only other sentient person in the place seems to be Dr. Masters, but does she have a secret?<br /><br />\"Don\\'t Look in the Basement\" is a great example of low-budget exploitation films. There isn\\'t much plot going on, but the cheapness works for the movie. Several cast members turn in memorable performances, particularly Betty Chandler and Annabelle Weenick, and the way the director adds little weird details to the movie can really stick with you.<br /><br />The scene between Allyson and \"the telephone man\" is a classic for all time, and especially delicious are the facial expressions of Dr. Masters when she begins to go over the edge near the finale of the movie. Brownrigg also makes great use of the cheap soundtrack, with several musical cues really evoking the characters that they accompany. My favorite cue is the \"crazy\" cue, a sitar that twangs whenever one of the patients does something pathological.<br /><br />Also wonderful is the way that Charlotte herself plunges into hysteria at the climax, with the patients revealing that Dr. Masters is simply another inmate, and then suggesting that CHARLOTTE is also a patient who is being allowed to act out her delusions (she certainly has a tenuous grip on reality, why else would she not question the ominous lack of phone service or outside contact?). The scene where Charlotte manages to finish off the barely-alive Dr. Stephens with a toy boat has to be one of the greatest moments in low-budget horror. Yes, \"Don\\'t Look in the Basement\" could very well be the \"American Beauty\" of Grade Z trash.',\n",
      "       b'A brilliant film by the great John Waters. The characters are unforgettable. The acting, script, and camera-work only enhance the overall greatness of this film. Perversion as an art-form. A must see for all. Easily a perfect 10!',\n",
      "       b'As a geology student this movie depicts the ignorance of Hollywood. In the scene where the dog grabs the bone from inside of the burning house, it is less then a foot from lava which has an average temperature of 1,750 degrees Fahrenheit. This stupidity is witnessed again when \"Stan\" goes to save subway 4. His shoes are melting to the floor of the subway while the rest of the team is standing just feet away from the flowing lava. And to finish off this monstrosity of a film, they come up with the most illogical solution, stopping a lava flow with cement K rails. Earlier in the film a reporters voice can be heard saying that nothing can stop the flow fire fighters have tried cars and CEMENT. Common sense dictates this film is a preposterous and gross understatement of human knowledge.',\n",
      "       b\"I liked this movie. I wasn't really sure what it was about before I started watching it, but enjoyed it nonetheless. It was about a girl (Meredith Monroe) whose mom didn't want her to turn out like she did. She meets and falls in love with a boy (Riley Smith) who is town for a charity football game. It's a good movie. I just hope it will be on again or comes out on video.\",\n",
      "       b\"The Soap is an interesting movie and very brilliant at parts. You must watch it for its strong characterisation and the risks the plot about two troubled individuals falling in love takes. You must know the story through various other reviews, so lets speak about what is brilliant about this movie.<br /><br />Firstly, the two protagonists are so real and such intriguing personalities. The first being a woman who has opted out of a four year relationship and is angry enough to sleep with anyone coming her way. The second being a man who has always wanted to be a woman, whose pain and loneliness is shown with so much sensitivity and brilliance. You hate the former and your heart bleeds for the latter.<br /><br />The second thing about this movie is the entire concept of loving one for who one is, irrespective of gender. So, would you still love your partner if he/she were to change his/her sex? The movie explores that idea and it is a beautiful one.<br /><br />But there is one point where the movie fails. I wish the relationship between the protagonists had developed in a better way. That what they feel is love doesn't come across till the end. But watch it, and post your thoughts on it here.......\",\n",
      "       b'I saw this film in the movie theater. I was taking classes at the Second City Chicago and of course the buzz of this movie was intense. It is a Woodward film about one of Second City\\'s Native sons.<br /><br />Everyone knew about Johns history. Everyone knew how he died. Some even knew that the lore did not make him out to be particularly friendly towards women in improv or comedy.<br /><br />But hey. the man led his life and he was loved intensely by the people who were in his world, and lore also states that he treated all of his close friends with love and respect.<br /><br />This movie. Well. Forget the idea of poor Michael Chilklis (who is a really great actor) being in a really astonishingly bad film, and really only relegated to doing an impersonation of the man.<br /><br />Forget the idea that they could not get the rights to any of Belushi\\'s work...and all the SNL scenes never happened that they portrayed in the movie.<br /><br />Screw the idea that half of the historical information in the film did not even follow Bob Woodwards work. Kinda saying \"Okay...we are about to mess with Belushi...now lets go after Woodward too...\" They also decided to take the premise of It\\'s a Wonderful Life and turn it into It\\'s a Horrible Life on Crack.<br /><br />Is he a guardian angel or the devil? Is the pinball machine the devil\\'s assistant electronic device...how many different endings can you tack onto to a movie? It is one of those movies after it is over...you look at the person you are with and in stunned disbelief go \"What the hell was that?!\" In some circles this movie has become a kinda cult classic. But for good reason.<br /><br />A good cult classic you sit around the screen and make fun of (or throw out snappy one liners) to the screen. A cult film is never good. And most people would never watch them in any serious context.<br /><br />If you want to watch some classic bad late 80\\'s fair stoned? Rent Wired. If you want to know about John Belushi...you can get more information off of the walls of Second City Chicago than this movie.',\n",
      "       b'This is one odd film. It seems to be aimed at a younger audience, but is filled with sexual innuendos. The whole premise is rather absurd, not just the idea of some shrunken heads of three dead kids doing some crime fighting, but the same said kids taking on a gang of tough older guys is a little far-fetched, but then again, the parents are mainly absent in the film and there is a lack of authority figures to keep the kids in line.<br /><br />The cast are good though, Meg Foster plays a very butch mafia-like leader, with the handsome A.J. Damato as the leader of the bullies. Aerky Egan and Rebecca Herbst are well cast as the young lovers, though for a comic actress of her talent, Leigh Allyn Baker is notoriously wasted in this film.<br /><br />Overall, the film is unusual, but I don\\'t think that is enough to make up for the poor quality and bumbling execution. The scenery is all rather dull and the \"special effects\" quite dismal. Sit this one out, unless your in the mood.',\n",
      "       b'While out divining for water, a young psychic woman named Jessica Burns (Carolyn Kearney) stumbles upon something else altogether. She discovers a chest that has been buried for centuries on her aunt\\'s ranch. Instead of the treasure her aunt is hoping for, the chest contains the head of Gideon Drew, a devil worshiper who was beheaded by Sir Francis Drake. Telepathically controlling the hired-hand who opened the chest, Drew\\'s head goes on a murderous spree in search of the rest of his body \\xc2\\x96 also buried on Jessica\\'s aunt\\'s farm. While Jessica is certain she feels the presence of evil, can she put a stop to Drew\\'s plans and will she be in time to prevent his becoming whole? <br /><br />I thought I was fairly familiar with most of Universal\\'s horror output prior to 1960, but this is one Universal film from the 50s that certainly gets little mention. While The Thing That Couldn\\'t Die isn\\'t what I would call a \"good\" movie, it does have a few things going for it. First, the film has some interesting ideas and is actually rather ambitious. Director Will Cowan, whether by luck or intention, is able to give the movie some nice atmosphere from time-to-time. And, the special effects involving the head are certainly creepy. But the whole project is undone by the acting. I\\'m shocked to learn that any of the supposed \"actors\" in this thing ever appeared in anything else. You would think that this was a \"one and done\" type of movie for most of those involved. Kearney is the worst offender. She\\'s horrible. Also, The Thing That Couldn\\'t Die may have been a bit too ambitious for its own good. Given the budget and other limitations, there was no way the movie could aspire to its more lofty ideas. Finally, the movie ends rather abruptly. Just as things are starting to get interesting, The End. What\\'s that about?',\n",
      "       b\"The premise of this movie, of a comedian talk show host running for president as an independent just to shake things up, is funny, entertaining, brilliant and even a bit inspiring. (thought about the west wing debate when Tom Dobbs leaves his podium, thought about Steven Colbert announcing his candidacy, good times) The first 15 - 20 minutes of this movie are therefore very very entertaining, the debate especially. When he eventually get's elected, it's a pity that is because of a computer glitch, you'd want him to win fair (although that is unrealistic).<br /><br />But after that this movie goes completely downhill. I thought we'd get a great movie like 'Dave' (1993) in which we see how it would out if a comedian actually ran the country. Instead, the movie turns from comedy into a thriller, a romantic comedy and a drama and does none good. The computer glitch becomes the main storyline, which really sucks. Boy is this disappointing. I give it 3 stars just for the premise and because I actually managed to watch this movie from start to end without stopping it, which is usually a good thing with me.\",\n",
      "       b\"One of the worse surfing movies I've ever seen. This movie is so bad I don't know where to begin-- Okay, let's start with the premise - some dude from the mainland who barely knows how to surf travels to Hawaii and enters a big wave contest which he more or less expects to win. A good analogy for those who don't surf would be a that of a grossly overweight chain smoker slapping on a pairs of running shoes and entering the LA Marathon with expectations of winning. No way! And, the contest is held on The North Shore which conjures up images of 15+ foot waves, but contest day the waves are maybe 6 foot. The acting? What acting? If you must see this woof see it on TV, don't waste your money renting it. If you want to see a pretty good surfing movie - granted it is flawed, but that's another story - rent Big Wednesday.\",\n",
      "       b\"And also a wonderful beginning, a real quick start. It keeps you yearning and waiting for is about to come. Unfortunately the high adrenaline dries off quickly, but most certainly after half the movie is over.<br /><br />And it's a shame, because this movie has really good ideas and explores many of them thoroughly. But that is also one of it's faults. By exploring too many things, it get's mixed up into to many things, so in the end you're too confused to follow any plot or characters. It's very dark and moody, but that doesn't help much, if it's also genre hopping just to try to fit any- and everything in it's story!\",\n",
      "       b\"I would just like to point out (in addition to pleading for the series to be released on DVD) that a show does not have to be realistic to be entertaining. These days, with all the blood and gore in the news and in crime dramas, reality shows, etc. it's nice to get lost in a good, cheesy show with entertaining characters. PWOG fits the bill. Was it Emmy material? No, but it was awesome just the same.<br /><br />I also have to put a vote in for the second cast - they were more charismatic than the cast of season one. I would definitely agree that the first season had a more serious vibe than the second two, but I was definitely more sucked in by the latter cast. Even though the series has been off the air for years, I'll never stop hoping that it be released for purchase.\",\n",
      "       b'Oh My Gosh!!!! This was the first movie Broken Lizard made as a group (although it just recently came to video), and I have never been more disappointed in my entire life!!! I tell you what, if I had seen this movie before I saw Super Troopers (which by the way, is a kick A$$ movie!!!), I never ever would have watched it!! I had read several reviews online, as well as on the cover of the DVD, that raved it as being,\"Broken Lizard\\'s funniest movie ever!\" Now if they were referring to Super Troopers as being their funniest movie ever, I would agree nonstop, but not this one. Talk about dry. It took the movie a good 45 minutes to even get going, and by then, I was so out of the mood to watch it, that it wasn\\'t even worth it. Maybe you gotta be high for it to really be funny? I dunno. I love these guys, I really do, but that movie is by far the worst one they\\'ve made. Club Dread was a pretty good movie, but this one, just wow. I\\'d highly recommend Super Troopers if you want a good laugh, but if you want more of a romance, drama, with a few funny spots, I\\'d say go with Puddle Cruiser. Just my opinion though, everyone is entitled to their own! :)',\n",
      "       b'The plot - in the future when nearly all men have been killed by a Y-chromosome-targeting virus, a (hot) female genetic engineer \\'creates\\' a man in a chem lab - is intriguing. Despite the somewhat promising premise, the movie falls flat in nearly every regard. The dialogue is laughable. The characters are paper thin. The exploration of a single-gender world is shallow. The worst part of the entire movie is the Asian detective who delivers lines so cheesy and contrived that you\\'ll want to vomit.<br /><br />I can\\'t imagine how on earth this trash got produced. Most of the movie is male bashing. \"All men are violent.\" \"All men rape women.\" \"Men are only animals.\" All of the women - even the \\'closet hetero cases\\' - seem to display anger toward-, fear of-, and hatred for men. If you want to see a sci-fi film something along the lines of this movie\\'s premise, you\\'d do best to look elsewhere.',\n",
      "       b\"Widow hires a psychopath as a handyman. Sloppy film noir thriller which doesn't make much of its tension promising set-up. (3/10)\",\n",
      "       b'What a travesty of movie ratings injustice - a 2.1 on the IMDb scale as I write this. Folks, this is a lot closer to a 3.0, I\\'ll even go out on a limb and say 4.0 where I\\'ve put it. Come on - how can you have a movie about a net of static electricity surrounding the earth and alien amorphic cell structures, and not give it at least a 4.0 for creativity? Then you\\'ve got all that great dialog like - \"Dave, look at the composition of this mud.\" You know, I don\\'t think they ever got back to that mud. No matter, this is the kind of flick that \\'Z\\' movie diehards live for, and I can now rest easy. Actually, I saw this quite a few years ago without the proper appreciation for it, along with Corman titles like \"Attack of the Giant Leeches \" and \"The Wasp Woman\". I don\\'t know what the fascination might be, but to quote a character from the film - \"Whatever it is, it works fast!\"<br /><br />Back to that alien amorphic cell structure - I liked the idea of a third element competing against your standard red and white blood cells. When astronaut John Corcoran (Michael Emmet) returned from the dead, I had visions of a scene that might have been a precursor to 1979\\'s \"Alien\", but that was not to be. Instead, budget restrictions limit the picture to a de-feathered Big Bird knock off, even though that concept was still almost a decade away. Who knows where one idea leaves off and picks up with another? <br /><br />Look, this is not that bad. Not that good, but not that bad. Anytime you can hook up crash landing astronauts with alien beings committed to taking over the Earth, you\\'ve got a winning combination. Throw in the cheesy monster factor and you\\'re on your way. Just remember - \"A wounded animal that large isn\\'t good\".',\n",
      "       b'When i first saw the movie being advertised i thought it was going to be another Disney movie that almost goes straight to video. I finally got around and rented it. I thought it was going to be bad because i couldn\\'t see Shia in any other role than his recently cancelled show \"Even Stevens\". When i turned it on i was ready to turn it off from boredom in about ten minutes. It started a bit slow and i couldn\\'t understand the beginning because the years didn\\'t make sense then they explained that later in the show so i was relieved of wondering about that. All and all i thought it was a good movie and i would recommend it. The cast was top notch and even though i\\'m not a fan of golf it easily kept my attention with a good plot.',\n",
      "       b\"Every Saturday morning at 11 a.m. I watched Superstars. All the biggest events happened on this show at the time. Challenge, which aired Sunday mornings, was decent too, but all the big stuff happened on this show. Wrestlers would do all their interviews with Mean Gene on a platform next to the live crowd or talk on their own to the screen in front of a background that promoted them. The matches were usually squashes but sometimes you would see 2 mid carders square off in the main event. There were also interview shows that usually resulted in violence thus setting up a feud. These segments ranged from Pipers Pit, The Body Shop, The Flower Shop, The Snake Pit, The Brother Love Show, The Funeral Parlor, and The Barber Shop. I don't recall any titles changing hands on this show. That usually happened at pay per views and Saturday Nights Main Event.\"],\n",
      "      dtype=object)>, <tf.Tensor: shape=(32,), dtype=int32, numpy=\n",
      "array([0, 0, 0, 1, 0, 0, 0, 0, 1, 0, 0, 0, 0, 0, 1, 1, 0, 1, 1, 0, 0, 0,\n",
      "       0, 0, 0, 1, 0, 0, 0, 0, 1, 1], dtype=int32)>)\n"
     ]
    }
   ],
   "source": [
    "for x in iter(raw_test_ds):\n",
    "    print(x)\n",
    "    break"
   ]
  },
  {
   "cell_type": "code",
   "execution_count": 8,
   "id": "265d8215-70a0-4722-bb8b-2008d47e58d1",
   "metadata": {},
   "outputs": [],
   "source": [
    "def custom_standardization(input_data):\n",
    "    l_case = tf.strings.lower(input_data)\n",
    "    stp_html = tf.strings.regex_replace(\n",
    "        l_case, '<br/>', ' '\n",
    "    )\n",
    "    return tf.strings.regex_replace(\n",
    "        stp_html,\n",
    "        f'[{re.escape(string.punctuation)}]',\n",
    "        ''\n",
    "    )\n",
    "\n",
    "def vectorize_text(text, label):\n",
    "    text = tf.expand_dims(text, -1)\n",
    "    return vectorize_layer(text), label"
   ]
  },
  {
   "cell_type": "code",
   "execution_count": 9,
   "id": "ab2f4da5-224d-41f3-a0c3-7789b11ec4f2",
   "metadata": {},
   "outputs": [],
   "source": [
    "max_features = 10000\n",
    "seq_len = 250\n",
    "\n",
    "vectorize_layer = layers.TextVectorization(\n",
    "    standardize=custom_standardization,\n",
    "    max_tokens=max_features,\n",
    "    output_mode='int',\n",
    "    output_sequence_length=seq_len \n",
    ")"
   ]
  },
  {
   "cell_type": "code",
   "execution_count": 10,
   "id": "89e2f739-5c85-4262-8083-0326d38d831f",
   "metadata": {},
   "outputs": [
    {
     "name": "stderr",
     "output_type": "stream",
     "text": [
      "2024-04-03 17:25:24.231080: W tensorflow/core/framework/local_rendezvous.cc:404] Local rendezvous is aborting with status: OUT_OF_RANGE: End of sequence\n"
     ]
    }
   ],
   "source": [
    "train_text = raw_train_ds.map(lambda x, y: x)\n",
    "vectorize_layer.adapt(train_text)\n"
   ]
  },
  {
   "cell_type": "code",
   "execution_count": 11,
   "id": "79616622-b540-4643-b694-bdbd8464ed8a",
   "metadata": {},
   "outputs": [],
   "source": [
    "AUTOTUNE = tf.data.AUTOTUNE\n",
    "\n",
    "train_ds = raw_train_ds.map(vectorize_text).cache().prefetch(buffer_size=AUTOTUNE)\n",
    "val_ds = raw_val_ds.map(vectorize_text).cache().prefetch(buffer_size=AUTOTUNE)\n",
    "test_ds = raw_test_ds.map(vectorize_text).cache().prefetch(buffer_size=AUTOTUNE)\n"
   ]
  },
  {
   "cell_type": "code",
   "execution_count": 41,
   "id": "98ab64c3-d897-41a8-aac4-1f6721f2ebb4",
   "metadata": {},
   "outputs": [
    {
     "data": {
      "text/html": [
       "<pre style=\"white-space:pre;overflow-x:auto;line-height:normal;font-family:Menlo,'DejaVu Sans Mono',consolas,'Courier New',monospace\"><span style=\"font-weight: bold\">Model: \"sequential_4\"</span>\n",
       "</pre>\n"
      ],
      "text/plain": [
       "\u001b[1mModel: \"sequential_4\"\u001b[0m\n"
      ]
     },
     "metadata": {},
     "output_type": "display_data"
    },
    {
     "data": {
      "text/html": [
       "<pre style=\"white-space:pre;overflow-x:auto;line-height:normal;font-family:Menlo,'DejaVu Sans Mono',consolas,'Courier New',monospace\">┏━━━━━━━━━━━━━━━━━━━━━━━━━━━━━━━━━┳━━━━━━━━━━━━━━━━━━━━━━━━┳━━━━━━━━━━━━━━━┓\n",
       "┃<span style=\"font-weight: bold\"> Layer (type)                    </span>┃<span style=\"font-weight: bold\"> Output Shape           </span>┃<span style=\"font-weight: bold\">       Param # </span>┃\n",
       "┡━━━━━━━━━━━━━━━━━━━━━━━━━━━━━━━━━╇━━━━━━━━━━━━━━━━━━━━━━━━╇━━━━━━━━━━━━━━━┩\n",
       "│ embedding_2 (<span style=\"color: #0087ff; text-decoration-color: #0087ff\">Embedding</span>)         │ ?                      │   <span style=\"color: #00af00; text-decoration-color: #00af00\">0</span> (unbuilt) │\n",
       "├─────────────────────────────────┼────────────────────────┼───────────────┤\n",
       "│ conv1d_2 (<span style=\"color: #0087ff; text-decoration-color: #0087ff\">Conv1D</span>)               │ ?                      │   <span style=\"color: #00af00; text-decoration-color: #00af00\">0</span> (unbuilt) │\n",
       "├─────────────────────────────────┼────────────────────────┼───────────────┤\n",
       "│ global_average_pooling1d_2      │ ?                      │   <span style=\"color: #00af00; text-decoration-color: #00af00\">0</span> (unbuilt) │\n",
       "│ (<span style=\"color: #0087ff; text-decoration-color: #0087ff\">GlobalAveragePooling1D</span>)        │                        │               │\n",
       "├─────────────────────────────────┼────────────────────────┼───────────────┤\n",
       "│ dropout_2 (<span style=\"color: #0087ff; text-decoration-color: #0087ff\">Dropout</span>)             │ ?                      │             <span style=\"color: #00af00; text-decoration-color: #00af00\">0</span> │\n",
       "├─────────────────────────────────┼────────────────────────┼───────────────┤\n",
       "│ dense_4 (<span style=\"color: #0087ff; text-decoration-color: #0087ff\">Dense</span>)                 │ ?                      │   <span style=\"color: #00af00; text-decoration-color: #00af00\">0</span> (unbuilt) │\n",
       "├─────────────────────────────────┼────────────────────────┼───────────────┤\n",
       "│ dense_5 (<span style=\"color: #0087ff; text-decoration-color: #0087ff\">Dense</span>)                 │ ?                      │   <span style=\"color: #00af00; text-decoration-color: #00af00\">0</span> (unbuilt) │\n",
       "└─────────────────────────────────┴────────────────────────┴───────────────┘\n",
       "</pre>\n"
      ],
      "text/plain": [
       "┏━━━━━━━━━━━━━━━━━━━━━━━━━━━━━━━━━┳━━━━━━━━━━━━━━━━━━━━━━━━┳━━━━━━━━━━━━━━━┓\n",
       "┃\u001b[1m \u001b[0m\u001b[1mLayer (type)                   \u001b[0m\u001b[1m \u001b[0m┃\u001b[1m \u001b[0m\u001b[1mOutput Shape          \u001b[0m\u001b[1m \u001b[0m┃\u001b[1m \u001b[0m\u001b[1m      Param #\u001b[0m\u001b[1m \u001b[0m┃\n",
       "┡━━━━━━━━━━━━━━━━━━━━━━━━━━━━━━━━━╇━━━━━━━━━━━━━━━━━━━━━━━━╇━━━━━━━━━━━━━━━┩\n",
       "│ embedding_2 (\u001b[38;5;33mEmbedding\u001b[0m)         │ ?                      │   \u001b[38;5;34m0\u001b[0m (unbuilt) │\n",
       "├─────────────────────────────────┼────────────────────────┼───────────────┤\n",
       "│ conv1d_2 (\u001b[38;5;33mConv1D\u001b[0m)               │ ?                      │   \u001b[38;5;34m0\u001b[0m (unbuilt) │\n",
       "├─────────────────────────────────┼────────────────────────┼───────────────┤\n",
       "│ global_average_pooling1d_2      │ ?                      │   \u001b[38;5;34m0\u001b[0m (unbuilt) │\n",
       "│ (\u001b[38;5;33mGlobalAveragePooling1D\u001b[0m)        │                        │               │\n",
       "├─────────────────────────────────┼────────────────────────┼───────────────┤\n",
       "│ dropout_2 (\u001b[38;5;33mDropout\u001b[0m)             │ ?                      │             \u001b[38;5;34m0\u001b[0m │\n",
       "├─────────────────────────────────┼────────────────────────┼───────────────┤\n",
       "│ dense_4 (\u001b[38;5;33mDense\u001b[0m)                 │ ?                      │   \u001b[38;5;34m0\u001b[0m (unbuilt) │\n",
       "├─────────────────────────────────┼────────────────────────┼───────────────┤\n",
       "│ dense_5 (\u001b[38;5;33mDense\u001b[0m)                 │ ?                      │   \u001b[38;5;34m0\u001b[0m (unbuilt) │\n",
       "└─────────────────────────────────┴────────────────────────┴───────────────┘\n"
      ]
     },
     "metadata": {},
     "output_type": "display_data"
    },
    {
     "data": {
      "text/html": [
       "<pre style=\"white-space:pre;overflow-x:auto;line-height:normal;font-family:Menlo,'DejaVu Sans Mono',consolas,'Courier New',monospace\"><span style=\"font-weight: bold\"> Total params: </span><span style=\"color: #00af00; text-decoration-color: #00af00\">0</span> (0.00 B)\n",
       "</pre>\n"
      ],
      "text/plain": [
       "\u001b[1m Total params: \u001b[0m\u001b[38;5;34m0\u001b[0m (0.00 B)\n"
      ]
     },
     "metadata": {},
     "output_type": "display_data"
    },
    {
     "data": {
      "text/html": [
       "<pre style=\"white-space:pre;overflow-x:auto;line-height:normal;font-family:Menlo,'DejaVu Sans Mono',consolas,'Courier New',monospace\"><span style=\"font-weight: bold\"> Trainable params: </span><span style=\"color: #00af00; text-decoration-color: #00af00\">0</span> (0.00 B)\n",
       "</pre>\n"
      ],
      "text/plain": [
       "\u001b[1m Trainable params: \u001b[0m\u001b[38;5;34m0\u001b[0m (0.00 B)\n"
      ]
     },
     "metadata": {},
     "output_type": "display_data"
    },
    {
     "data": {
      "text/html": [
       "<pre style=\"white-space:pre;overflow-x:auto;line-height:normal;font-family:Menlo,'DejaVu Sans Mono',consolas,'Courier New',monospace\"><span style=\"font-weight: bold\"> Non-trainable params: </span><span style=\"color: #00af00; text-decoration-color: #00af00\">0</span> (0.00 B)\n",
       "</pre>\n"
      ],
      "text/plain": [
       "\u001b[1m Non-trainable params: \u001b[0m\u001b[38;5;34m0\u001b[0m (0.00 B)\n"
      ]
     },
     "metadata": {},
     "output_type": "display_data"
    }
   ],
   "source": [
    "emb_dims = 128\n",
    "\n",
    "model = Sequential([\n",
    "    layers.Embedding(max_features+1, emb_dims),\n",
    "    layers.Conv1D(16, 5, activation=\"relu\"),\n",
    "    layers.GlobalAveragePooling1D(),\n",
    "    layers.Dropout(0.2),\n",
    "    layers.Dense(32, activation='relu'),\n",
    "    layers.Dense(1),\n",
    "])\n",
    "\n",
    "model.compile(\n",
    "    optimizer='adam',\n",
    "    loss=losses.BinaryCrossentropy(from_logits=True),\n",
    "    metrics=['accuracy']\n",
    ")\n",
    "\n",
    "model.summary()"
   ]
  },
  {
   "cell_type": "code",
   "execution_count": 42,
   "id": "ded90d8d-e62c-4308-af7e-5cb75b226d13",
   "metadata": {},
   "outputs": [
    {
     "name": "stdout",
     "output_type": "stream",
     "text": [
      "Epoch 1/10\n",
      "\u001b[1m625/625\u001b[0m \u001b[32m━━━━━━━━━━━━━━━━━━━━\u001b[0m\u001b[37m\u001b[0m \u001b[1m20s\u001b[0m 30ms/step - accuracy: 0.6604 - loss: 0.5513 - val_accuracy: 0.8520 - val_loss: 0.3111\n",
      "Epoch 2/10\n",
      "\u001b[1m625/625\u001b[0m \u001b[32m━━━━━━━━━━━━━━━━━━━━\u001b[0m\u001b[37m\u001b[0m \u001b[1m18s\u001b[0m 29ms/step - accuracy: 0.8873 - loss: 0.2762 - val_accuracy: 0.8650 - val_loss: 0.2906\n",
      "Epoch 3/10\n",
      "\u001b[1m625/625\u001b[0m \u001b[32m━━━━━━━━━━━━━━━━━━━━\u001b[0m\u001b[37m\u001b[0m \u001b[1m18s\u001b[0m 29ms/step - accuracy: 0.9181 - loss: 0.2085 - val_accuracy: 0.8770 - val_loss: 0.3062\n",
      "Epoch 4/10\n",
      "\u001b[1m625/625\u001b[0m \u001b[32m━━━━━━━━━━━━━━━━━━━━\u001b[0m\u001b[37m\u001b[0m \u001b[1m18s\u001b[0m 29ms/step - accuracy: 0.9415 - loss: 0.1511 - val_accuracy: 0.8746 - val_loss: 0.3758\n",
      "Epoch 5/10\n",
      "\u001b[1m625/625\u001b[0m \u001b[32m━━━━━━━━━━━━━━━━━━━━\u001b[0m\u001b[37m\u001b[0m \u001b[1m18s\u001b[0m 28ms/step - accuracy: 0.9537 - loss: 0.1201 - val_accuracy: 0.8720 - val_loss: 0.3764\n",
      "Epoch 6/10\n",
      "\u001b[1m625/625\u001b[0m \u001b[32m━━━━━━━━━━━━━━━━━━━━\u001b[0m\u001b[37m\u001b[0m \u001b[1m18s\u001b[0m 29ms/step - accuracy: 0.9620 - loss: 0.0967 - val_accuracy: 0.8670 - val_loss: 0.4255\n",
      "Epoch 7/10\n",
      "\u001b[1m625/625\u001b[0m \u001b[32m━━━━━━━━━━━━━━━━━━━━\u001b[0m\u001b[37m\u001b[0m \u001b[1m18s\u001b[0m 29ms/step - accuracy: 0.9685 - loss: 0.0813 - val_accuracy: 0.8630 - val_loss: 0.4787\n",
      "Epoch 8/10\n",
      "\u001b[1m625/625\u001b[0m \u001b[32m━━━━━━━━━━━━━━━━━━━━\u001b[0m\u001b[37m\u001b[0m \u001b[1m20s\u001b[0m 33ms/step - accuracy: 0.9773 - loss: 0.0645 - val_accuracy: 0.8552 - val_loss: 0.5207\n",
      "Epoch 9/10\n",
      "\u001b[1m625/625\u001b[0m \u001b[32m━━━━━━━━━━━━━━━━━━━━\u001b[0m\u001b[37m\u001b[0m \u001b[1m18s\u001b[0m 28ms/step - accuracy: 0.9802 - loss: 0.0584 - val_accuracy: 0.8614 - val_loss: 0.5554\n",
      "Epoch 10/10\n",
      "\u001b[1m625/625\u001b[0m \u001b[32m━━━━━━━━━━━━━━━━━━━━\u001b[0m\u001b[37m\u001b[0m \u001b[1m18s\u001b[0m 29ms/step - accuracy: 0.9829 - loss: 0.0501 - val_accuracy: 0.8608 - val_loss: 0.5942\n"
     ]
    },
    {
     "data": {
      "text/plain": [
       "<keras.src.callbacks.history.History at 0x7f4e839ee7a0>"
      ]
     },
     "execution_count": 42,
     "metadata": {},
     "output_type": "execute_result"
    }
   ],
   "source": [
    "model.fit(\n",
    "    train_ds, \n",
    "    validation_data=val_ds,\n",
    "    epochs=10,\n",
    "    callbacks=[\n",
    "        callbacks.TensorBoard(log_dir=\"logs/1dcnn\"),\n",
    "    ]\n",
    ")"
   ]
  },
  {
   "cell_type": "code",
   "execution_count": 14,
   "id": "2266b9d9-674e-486c-813d-7e8102462eba",
   "metadata": {},
   "outputs": [
    {
     "data": {
      "text/html": [
       "\n",
       "      <iframe id=\"tensorboard-frame-d930b9ba3715814e\" width=\"100%\" height=\"800\" frameborder=\"0\">\n",
       "      </iframe>\n",
       "      <script>\n",
       "        (function() {\n",
       "          const frame = document.getElementById(\"tensorboard-frame-d930b9ba3715814e\");\n",
       "          const url = new URL(\"/\", window.location);\n",
       "          const port = 6006;\n",
       "          if (port) {\n",
       "            url.port = port;\n",
       "          }\n",
       "          frame.src = url;\n",
       "        })();\n",
       "      </script>\n",
       "    "
      ],
      "text/plain": [
       "<IPython.core.display.HTML object>"
      ]
     },
     "metadata": {},
     "output_type": "display_data"
    }
   ],
   "source": [
    "%load_ext tensorboard\n",
    "%tensorboard --logdir logs"
   ]
  },
  {
   "cell_type": "code",
   "execution_count": 43,
   "id": "fbe73fde-9297-4b81-92c7-c384dc249fea",
   "metadata": {},
   "outputs": [
    {
     "name": "stdout",
     "output_type": "stream",
     "text": [
      "\u001b[1m782/782\u001b[0m \u001b[32m━━━━━━━━━━━━━━━━━━━━\u001b[0m\u001b[37m\u001b[0m \u001b[1m2s\u001b[0m 3ms/step - accuracy: 0.8389 - loss: 0.6776\n"
     ]
    },
    {
     "data": {
      "text/plain": [
       "[0.6867113709449768, 0.8408799767494202]"
      ]
     },
     "execution_count": 43,
     "metadata": {},
     "output_type": "execute_result"
    }
   ],
   "source": [
    "model.evaluate(test_ds)"
   ]
  },
  {
   "cell_type": "code",
   "execution_count": 44,
   "id": "7dc3f2f7-adb7-4d8d-8d90-63a510f999f0",
   "metadata": {},
   "outputs": [
    {
     "name": "stdout",
     "output_type": "stream",
     "text": [
      "\u001b[1m782/782\u001b[0m \u001b[32m━━━━━━━━━━━━━━━━━━━━\u001b[0m\u001b[37m\u001b[0m \u001b[1m4s\u001b[0m 4ms/step - accuracy: 0.8380 - loss: 0.6798\n"
     ]
    },
    {
     "data": {
      "text/plain": [
       "[0.6888637542724609, 0.8415200114250183]"
      ]
     },
     "execution_count": 44,
     "metadata": {},
     "output_type": "execute_result"
    }
   ],
   "source": [
    "export_model = tf.keras.Sequential([\n",
    "    vectorize_layer,\n",
    "    model,\n",
    "    layers.Activation('sigmoid')\n",
    "])\n",
    "\n",
    "export_model.compile(\n",
    "    loss=losses.BinaryCrossentropy(from_logits=False),\n",
    "    optimizer=\"adam\",\n",
    "    metrics=[\"accuracy\"]\n",
    ")\n",
    "\n",
    "\n",
    "export_model.evaluate(raw_test_ds)"
   ]
  },
  {
   "cell_type": "code",
   "execution_count": 55,
   "id": "7c1a4708-f4af-47c0-b1ed-be070c37a26f",
   "metadata": {},
   "outputs": [
    {
     "data": {
      "text/plain": [
       "<tf.Tensor: shape=(4, 1), dtype=float32, numpy=\n",
       "array([[0.06500715],\n",
       "       [0.5285808 ],\n",
       "       [0.02967874],\n",
       "       [0.11571622]], dtype=float32)>"
      ]
     },
     "execution_count": 55,
     "metadata": {},
     "output_type": "execute_result"
    }
   ],
   "source": [
    "export_model(tf.constant(['The movie is very boring', 'A Good Movie' , 'very bad worst movie',  'Worst movie, boring' ]))"
   ]
  },
  {
   "cell_type": "code",
   "execution_count": 52,
   "id": "a914493e-41b6-45d5-a077-fd4a04b45f36",
   "metadata": {},
   "outputs": [],
   "source": [
    "export_model.save('sentence_classificatoin_model.keras')"
   ]
  }
 ],
 "metadata": {
  "kernelspec": {
   "display_name": "Python 3 (ipykernel)",
   "language": "python",
   "name": "python3"
  },
  "language_info": {
   "codemirror_mode": {
    "name": "ipython",
    "version": 3
   },
   "file_extension": ".py",
   "mimetype": "text/x-python",
   "name": "python",
   "nbconvert_exporter": "python",
   "pygments_lexer": "ipython3",
   "version": "3.10.14"
  }
 },
 "nbformat": 4,
 "nbformat_minor": 5
}
